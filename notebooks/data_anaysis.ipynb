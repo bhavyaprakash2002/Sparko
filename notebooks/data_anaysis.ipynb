{
 "cells": [
  {
   "cell_type": "markdown",
   "metadata": {},
   "source": [
    "## Install necessary libraries and packages"
   ]
  },
  {
   "cell_type": "code",
   "execution_count": 2,
   "metadata": {},
   "outputs": [],
   "source": [
    "import pandas as pd\n",
    "import numpy as np\n",
    "import matplotlib.pyplot as plt\n",
    "import seaborn as sns\n",
    "\n",
    "from sklearn.model_selection import train_test_split\n",
    "from sklearn.preprocessing import StandardScaler\n",
    "from sklearn.pipeline import Pipeline\n",
    "from sklearn.metrics import mean_squared_error\n",
    "\n",
    "from sklearn.linear_model import LinearRegression\n",
    "from sklearn.neighbors import KNeighborsRegressor\n",
    "from sklearn.tree import DecisionTreeRegressor\n",
    "from sklearn.ensemble import RandomForestRegressor\n",
    "from xgboost import XGBRegressor"
   ]
  },
  {
   "cell_type": "markdown",
   "metadata": {},
   "source": [
    "### Libraries and packages installed"
   ]
  },
  {
   "cell_type": "markdown",
   "metadata": {},
   "source": [
    "## Read data"
   ]
  },
  {
   "cell_type": "code",
   "execution_count": 3,
   "metadata": {},
   "outputs": [
    {
     "data": {
      "text/html": [
       "<div>\n",
       "<style scoped>\n",
       "    .dataframe tbody tr th:only-of-type {\n",
       "        vertical-align: middle;\n",
       "    }\n",
       "\n",
       "    .dataframe tbody tr th {\n",
       "        vertical-align: top;\n",
       "    }\n",
       "\n",
       "    .dataframe thead th {\n",
       "        text-align: right;\n",
       "    }\n",
       "</style>\n",
       "<table border=\"1\" class=\"dataframe\">\n",
       "  <thead>\n",
       "    <tr style=\"text-align: right;\">\n",
       "      <th></th>\n",
       "      <th>year</th>\n",
       "      <th>month</th>\n",
       "      <th>day</th>\n",
       "      <th>irradiance</th>\n",
       "    </tr>\n",
       "  </thead>\n",
       "  <tbody>\n",
       "    <tr>\n",
       "      <th>0</th>\n",
       "      <td>2020</td>\n",
       "      <td>8</td>\n",
       "      <td>1</td>\n",
       "      <td>4.57</td>\n",
       "    </tr>\n",
       "    <tr>\n",
       "      <th>1</th>\n",
       "      <td>2020</td>\n",
       "      <td>8</td>\n",
       "      <td>2</td>\n",
       "      <td>6.30</td>\n",
       "    </tr>\n",
       "    <tr>\n",
       "      <th>2</th>\n",
       "      <td>2020</td>\n",
       "      <td>8</td>\n",
       "      <td>3</td>\n",
       "      <td>4.96</td>\n",
       "    </tr>\n",
       "    <tr>\n",
       "      <th>3</th>\n",
       "      <td>2020</td>\n",
       "      <td>8</td>\n",
       "      <td>4</td>\n",
       "      <td>5.42</td>\n",
       "    </tr>\n",
       "    <tr>\n",
       "      <th>4</th>\n",
       "      <td>2020</td>\n",
       "      <td>8</td>\n",
       "      <td>5</td>\n",
       "      <td>3.24</td>\n",
       "    </tr>\n",
       "    <tr>\n",
       "      <th>...</th>\n",
       "      <td>...</td>\n",
       "      <td>...</td>\n",
       "      <td>...</td>\n",
       "      <td>...</td>\n",
       "    </tr>\n",
       "    <tr>\n",
       "      <th>5835</th>\n",
       "      <td>2008</td>\n",
       "      <td>7</td>\n",
       "      <td>27</td>\n",
       "      <td>3.73</td>\n",
       "    </tr>\n",
       "    <tr>\n",
       "      <th>5836</th>\n",
       "      <td>2008</td>\n",
       "      <td>7</td>\n",
       "      <td>28</td>\n",
       "      <td>6.31</td>\n",
       "    </tr>\n",
       "    <tr>\n",
       "      <th>5837</th>\n",
       "      <td>2008</td>\n",
       "      <td>7</td>\n",
       "      <td>29</td>\n",
       "      <td>7.11</td>\n",
       "    </tr>\n",
       "    <tr>\n",
       "      <th>5838</th>\n",
       "      <td>2008</td>\n",
       "      <td>7</td>\n",
       "      <td>30</td>\n",
       "      <td>5.97</td>\n",
       "    </tr>\n",
       "    <tr>\n",
       "      <th>5839</th>\n",
       "      <td>2008</td>\n",
       "      <td>7</td>\n",
       "      <td>31</td>\n",
       "      <td>3.37</td>\n",
       "    </tr>\n",
       "  </tbody>\n",
       "</table>\n",
       "<p>5840 rows × 4 columns</p>\n",
       "</div>"
      ],
      "text/plain": [
       "      year  month  day  irradiance\n",
       "0     2020      8    1        4.57\n",
       "1     2020      8    2        6.30\n",
       "2     2020      8    3        4.96\n",
       "3     2020      8    4        5.42\n",
       "4     2020      8    5        3.24\n",
       "...    ...    ...  ...         ...\n",
       "5835  2008      7   27        3.73\n",
       "5836  2008      7   28        6.31\n",
       "5837  2008      7   29        7.11\n",
       "5838  2008      7   30        5.97\n",
       "5839  2008      7   31        3.37\n",
       "\n",
       "[5840 rows x 4 columns]"
      ]
     },
     "execution_count": 3,
     "metadata": {},
     "output_type": "execute_result"
    }
   ],
   "source": [
    "data = pd.read_csv('big_data_1.csv')\n",
    "data"
   ]
  },
  {
   "cell_type": "code",
   "execution_count": 5,
   "metadata": {},
   "outputs": [
    {
     "data": {
      "text/html": [
       "<div>\n",
       "<style scoped>\n",
       "    .dataframe tbody tr th:only-of-type {\n",
       "        vertical-align: middle;\n",
       "    }\n",
       "\n",
       "    .dataframe tbody tr th {\n",
       "        vertical-align: top;\n",
       "    }\n",
       "\n",
       "    .dataframe thead th {\n",
       "        text-align: right;\n",
       "    }\n",
       "</style>\n",
       "<table border=\"1\" class=\"dataframe\">\n",
       "  <thead>\n",
       "    <tr style=\"text-align: right;\">\n",
       "      <th></th>\n",
       "      <th>year</th>\n",
       "      <th>month</th>\n",
       "      <th>day</th>\n",
       "      <th>irradiance</th>\n",
       "    </tr>\n",
       "  </thead>\n",
       "  <tbody>\n",
       "    <tr>\n",
       "      <th>count</th>\n",
       "      <td>5840.000000</td>\n",
       "      <td>5840.000000</td>\n",
       "      <td>5840.000000</td>\n",
       "      <td>5840.000000</td>\n",
       "    </tr>\n",
       "    <tr>\n",
       "      <th>mean</th>\n",
       "      <td>2015.500000</td>\n",
       "      <td>6.526027</td>\n",
       "      <td>15.720548</td>\n",
       "      <td>4.804854</td>\n",
       "    </tr>\n",
       "    <tr>\n",
       "      <th>std</th>\n",
       "      <td>4.610167</td>\n",
       "      <td>3.448147</td>\n",
       "      <td>8.797000</td>\n",
       "      <td>1.540217</td>\n",
       "    </tr>\n",
       "    <tr>\n",
       "      <th>min</th>\n",
       "      <td>2008.000000</td>\n",
       "      <td>1.000000</td>\n",
       "      <td>1.000000</td>\n",
       "      <td>0.510000</td>\n",
       "    </tr>\n",
       "    <tr>\n",
       "      <th>25%</th>\n",
       "      <td>2011.750000</td>\n",
       "      <td>4.000000</td>\n",
       "      <td>8.000000</td>\n",
       "      <td>3.630000</td>\n",
       "    </tr>\n",
       "    <tr>\n",
       "      <th>50%</th>\n",
       "      <td>2015.500000</td>\n",
       "      <td>7.000000</td>\n",
       "      <td>16.000000</td>\n",
       "      <td>4.840000</td>\n",
       "    </tr>\n",
       "    <tr>\n",
       "      <th>75%</th>\n",
       "      <td>2019.250000</td>\n",
       "      <td>10.000000</td>\n",
       "      <td>23.000000</td>\n",
       "      <td>6.040000</td>\n",
       "    </tr>\n",
       "    <tr>\n",
       "      <th>max</th>\n",
       "      <td>2023.000000</td>\n",
       "      <td>12.000000</td>\n",
       "      <td>31.000000</td>\n",
       "      <td>8.340000</td>\n",
       "    </tr>\n",
       "  </tbody>\n",
       "</table>\n",
       "</div>"
      ],
      "text/plain": [
       "              year        month          day   irradiance\n",
       "count  5840.000000  5840.000000  5840.000000  5840.000000\n",
       "mean   2015.500000     6.526027    15.720548     4.804854\n",
       "std       4.610167     3.448147     8.797000     1.540217\n",
       "min    2008.000000     1.000000     1.000000     0.510000\n",
       "25%    2011.750000     4.000000     8.000000     3.630000\n",
       "50%    2015.500000     7.000000    16.000000     4.840000\n",
       "75%    2019.250000    10.000000    23.000000     6.040000\n",
       "max    2023.000000    12.000000    31.000000     8.340000"
      ]
     },
     "execution_count": 5,
     "metadata": {},
     "output_type": "execute_result"
    }
   ],
   "source": [
    "data.describe()"
   ]
  },
  {
   "cell_type": "markdown",
   "metadata": {},
   "source": [
    "### The dataset consists of only numerical features and target. No null/missing values. "
   ]
  },
  {
   "cell_type": "markdown",
   "metadata": {},
   "source": [
    "## Preprocessing"
   ]
  },
  {
   "cell_type": "code",
   "execution_count": 6,
   "metadata": {},
   "outputs": [],
   "source": [
    "ss_features = StandardScaler()\n",
    "ss_target = StandardScaler()"
   ]
  },
  {
   "cell_type": "code",
   "execution_count": 8,
   "metadata": {},
   "outputs": [],
   "source": [
    "features = data.iloc[:,1:3]\n",
    "target = data['irradiance']"
   ]
  },
  {
   "cell_type": "code",
   "execution_count": 9,
   "metadata": {},
   "outputs": [
    {
     "data": {
      "text/html": [
       "<div>\n",
       "<style scoped>\n",
       "    .dataframe tbody tr th:only-of-type {\n",
       "        vertical-align: middle;\n",
       "    }\n",
       "\n",
       "    .dataframe tbody tr th {\n",
       "        vertical-align: top;\n",
       "    }\n",
       "\n",
       "    .dataframe thead th {\n",
       "        text-align: right;\n",
       "    }\n",
       "</style>\n",
       "<table border=\"1\" class=\"dataframe\">\n",
       "  <thead>\n",
       "    <tr style=\"text-align: right;\">\n",
       "      <th></th>\n",
       "      <th>month</th>\n",
       "      <th>day</th>\n",
       "    </tr>\n",
       "  </thead>\n",
       "  <tbody>\n",
       "    <tr>\n",
       "      <th>0</th>\n",
       "      <td>8</td>\n",
       "      <td>1</td>\n",
       "    </tr>\n",
       "    <tr>\n",
       "      <th>1</th>\n",
       "      <td>8</td>\n",
       "      <td>2</td>\n",
       "    </tr>\n",
       "    <tr>\n",
       "      <th>2</th>\n",
       "      <td>8</td>\n",
       "      <td>3</td>\n",
       "    </tr>\n",
       "    <tr>\n",
       "      <th>3</th>\n",
       "      <td>8</td>\n",
       "      <td>4</td>\n",
       "    </tr>\n",
       "    <tr>\n",
       "      <th>4</th>\n",
       "      <td>8</td>\n",
       "      <td>5</td>\n",
       "    </tr>\n",
       "    <tr>\n",
       "      <th>...</th>\n",
       "      <td>...</td>\n",
       "      <td>...</td>\n",
       "    </tr>\n",
       "    <tr>\n",
       "      <th>5835</th>\n",
       "      <td>7</td>\n",
       "      <td>27</td>\n",
       "    </tr>\n",
       "    <tr>\n",
       "      <th>5836</th>\n",
       "      <td>7</td>\n",
       "      <td>28</td>\n",
       "    </tr>\n",
       "    <tr>\n",
       "      <th>5837</th>\n",
       "      <td>7</td>\n",
       "      <td>29</td>\n",
       "    </tr>\n",
       "    <tr>\n",
       "      <th>5838</th>\n",
       "      <td>7</td>\n",
       "      <td>30</td>\n",
       "    </tr>\n",
       "    <tr>\n",
       "      <th>5839</th>\n",
       "      <td>7</td>\n",
       "      <td>31</td>\n",
       "    </tr>\n",
       "  </tbody>\n",
       "</table>\n",
       "<p>5840 rows × 2 columns</p>\n",
       "</div>"
      ],
      "text/plain": [
       "      month  day\n",
       "0         8    1\n",
       "1         8    2\n",
       "2         8    3\n",
       "3         8    4\n",
       "4         8    5\n",
       "...     ...  ...\n",
       "5835      7   27\n",
       "5836      7   28\n",
       "5837      7   29\n",
       "5838      7   30\n",
       "5839      7   31\n",
       "\n",
       "[5840 rows x 2 columns]"
      ]
     },
     "execution_count": 9,
     "metadata": {},
     "output_type": "execute_result"
    }
   ],
   "source": [
    "features"
   ]
  },
  {
   "cell_type": "code",
   "execution_count": 38,
   "metadata": {},
   "outputs": [],
   "source": [
    "scaled_features = ss_features.fit_transform(features)\n",
    "scaled_target = ss_target.fit_transform((np.array(target)).reshape(-1,1))"
   ]
  },
  {
   "cell_type": "code",
   "execution_count": 39,
   "metadata": {},
   "outputs": [],
   "source": [
    "scaled_features_df = pd.DataFrame(scaled_features)\n",
    "scaled_target_df = pd.DataFrame(scaled_target)\n",
    "final_data = pd.concat([scaled_features_df, scaled_target_df], axis = 1)\n",
    "final_data.columns = ['month', 'date', 'irradiance']"
   ]
  },
  {
   "cell_type": "code",
   "execution_count": 40,
   "metadata": {},
   "outputs": [
    {
     "data": {
      "text/html": [
       "<div>\n",
       "<style scoped>\n",
       "    .dataframe tbody tr th:only-of-type {\n",
       "        vertical-align: middle;\n",
       "    }\n",
       "\n",
       "    .dataframe tbody tr th {\n",
       "        vertical-align: top;\n",
       "    }\n",
       "\n",
       "    .dataframe thead th {\n",
       "        text-align: right;\n",
       "    }\n",
       "</style>\n",
       "<table border=\"1\" class=\"dataframe\">\n",
       "  <thead>\n",
       "    <tr style=\"text-align: right;\">\n",
       "      <th></th>\n",
       "      <th>month</th>\n",
       "      <th>date</th>\n",
       "      <th>irradiance</th>\n",
       "    </tr>\n",
       "  </thead>\n",
       "  <tbody>\n",
       "    <tr>\n",
       "      <th>0</th>\n",
       "      <td>0.427505</td>\n",
       "      <td>-1.673503</td>\n",
       "      <td>-0.152494</td>\n",
       "    </tr>\n",
       "    <tr>\n",
       "      <th>1</th>\n",
       "      <td>0.427505</td>\n",
       "      <td>-1.559818</td>\n",
       "      <td>0.970820</td>\n",
       "    </tr>\n",
       "    <tr>\n",
       "      <th>2</th>\n",
       "      <td>0.427505</td>\n",
       "      <td>-1.446134</td>\n",
       "      <td>0.100738</td>\n",
       "    </tr>\n",
       "    <tr>\n",
       "      <th>3</th>\n",
       "      <td>0.427505</td>\n",
       "      <td>-1.332449</td>\n",
       "      <td>0.399423</td>\n",
       "    </tr>\n",
       "    <tr>\n",
       "      <th>4</th>\n",
       "      <td>0.427505</td>\n",
       "      <td>-1.218764</td>\n",
       "      <td>-1.016083</td>\n",
       "    </tr>\n",
       "    <tr>\n",
       "      <th>...</th>\n",
       "      <td>...</td>\n",
       "      <td>...</td>\n",
       "      <td>...</td>\n",
       "    </tr>\n",
       "    <tr>\n",
       "      <th>5835</th>\n",
       "      <td>0.137469</td>\n",
       "      <td>1.282303</td>\n",
       "      <td>-0.697919</td>\n",
       "    </tr>\n",
       "    <tr>\n",
       "      <th>5836</th>\n",
       "      <td>0.137469</td>\n",
       "      <td>1.395988</td>\n",
       "      <td>0.977313</td>\n",
       "    </tr>\n",
       "    <tr>\n",
       "      <th>5837</th>\n",
       "      <td>0.137469</td>\n",
       "      <td>1.509672</td>\n",
       "      <td>1.496765</td>\n",
       "    </tr>\n",
       "    <tr>\n",
       "      <th>5838</th>\n",
       "      <td>0.137469</td>\n",
       "      <td>1.623357</td>\n",
       "      <td>0.756546</td>\n",
       "    </tr>\n",
       "    <tr>\n",
       "      <th>5839</th>\n",
       "      <td>0.137469</td>\n",
       "      <td>1.737042</td>\n",
       "      <td>-0.931672</td>\n",
       "    </tr>\n",
       "  </tbody>\n",
       "</table>\n",
       "<p>5840 rows × 3 columns</p>\n",
       "</div>"
      ],
      "text/plain": [
       "         month      date  irradiance\n",
       "0     0.427505 -1.673503   -0.152494\n",
       "1     0.427505 -1.559818    0.970820\n",
       "2     0.427505 -1.446134    0.100738\n",
       "3     0.427505 -1.332449    0.399423\n",
       "4     0.427505 -1.218764   -1.016083\n",
       "...        ...       ...         ...\n",
       "5835  0.137469  1.282303   -0.697919\n",
       "5836  0.137469  1.395988    0.977313\n",
       "5837  0.137469  1.509672    1.496765\n",
       "5838  0.137469  1.623357    0.756546\n",
       "5839  0.137469  1.737042   -0.931672\n",
       "\n",
       "[5840 rows x 3 columns]"
      ]
     },
     "execution_count": 40,
     "metadata": {},
     "output_type": "execute_result"
    }
   ],
   "source": [
    "final_data"
   ]
  },
  {
   "cell_type": "markdown",
   "metadata": {},
   "source": [
    "### Data standardization completed"
   ]
  },
  {
   "cell_type": "markdown",
   "metadata": {},
   "source": [
    "## Feature correlation"
   ]
  },
  {
   "cell_type": "code",
   "execution_count": 41,
   "metadata": {},
   "outputs": [
    {
     "data": {
      "image/png": "[encoded data removed]",
      "text/plain": [
       "<Figure size 640x480 with 2 Axes>"
      ]
     },
     "metadata": {},
     "output_type": "display_data"
    }
   ],
   "source": [
    "corr1 = round(data.corr(),2)\n",
    "sns.heatmap(corr1, annot = True)\n",
    "plt.show()"
   ]
  },
  {
   "cell_type": "code",
   "execution_count": 42,
   "metadata": {},
   "outputs": [
    {
     "data": {
      "image/png": "[encoded data removed]",
      "text/plain": [
       "<Figure size 640x480 with 2 Axes>"
      ]
     },
     "metadata": {},
     "output_type": "display_data"
    }
   ],
   "source": [
    "corr2 = round(final_data.corr(),2)\n",
    "sns.heatmap(corr2, annot = True)\n",
    "plt.show()"
   ]
  },
  {
   "cell_type": "markdown",
   "metadata": {},
   "source": [
    "### 'Month' is highly linearly-inversely-correlated with 'irradiance'"
   ]
  },
  {
   "cell_type": "markdown",
   "metadata": {},
   "source": [
    "## Model training"
   ]
  },
  {
   "cell_type": "code",
   "execution_count": 43,
   "metadata": {},
   "outputs": [],
   "source": [
    "x = final_data.iloc[:,:2]\n",
    "y = final_data['irradiance']\n",
    "x_train, x_test, y_train, y_test = train_test_split(x,y,random_state=42)"
   ]
  },
  {
   "cell_type": "markdown",
   "metadata": {},
   "source": [
    "## Comparing Models:\n",
    "### 1. Linear Regression\n",
    "### 2. K-Nearest Neighbors\n",
    "### 3. Decision Trees\n",
    "### 4. Random Forest\n",
    "### 5. XGBoost "
   ]
  },
  {
   "cell_type": "code",
   "execution_count": 54,
   "metadata": {},
   "outputs": [
    {
     "name": "stdout",
     "output_type": "stream",
     "text": [
      "0.9687450327283306\n",
      "1.4919495064283275\n"
     ]
    },
    {
     "name": "stderr",
     "output_type": "stream",
     "text": [
      "c:\\Users\\Bhavya Prakash\\OneDrive\\Desktop\\Ezinore\\Sparko\\.venv\\Lib\\site-packages\\sklearn\\metrics\\_regression.py:492: FutureWarning: 'squared' is deprecated in version 1.4 and will be removed in 1.6. To calculate the root mean squared error, use the function'root_mean_squared_error'.\n",
      "  warnings.warn(\n",
      "c:\\Users\\Bhavya Prakash\\OneDrive\\Desktop\\Ezinore\\Sparko\\.venv\\Lib\\site-packages\\sklearn\\metrics\\_regression.py:492: FutureWarning: 'squared' is deprecated in version 1.4 and will be removed in 1.6. To calculate the root mean squared error, use the function'root_mean_squared_error'.\n",
      "  warnings.warn(\n"
     ]
    }
   ],
   "source": [
    "model_lr = LinearRegression()\n",
    "model_lr.fit(x_train, y_train)\n",
    "y_pred_lr = model_lr.predict(x_test)\n",
    "rmse = mean_squared_error(y_test, y_pred_lr, squared=False)\n",
    "print(rmse)\n",
    "y_actual = ss_target.inverse_transform((np.array(y_test)).reshape(-1,1))\n",
    "y_predicted_lr = ss_target.inverse_transform((np.array(y_pred_lr)).reshape(-1,1))\n",
    "rmse = mean_squared_error(y_actual, y_predicted_lr, squared=False)\n",
    "print(rmse)"
   ]
  },
  {
   "cell_type": "code",
   "execution_count": 55,
   "metadata": {},
   "outputs": [
    {
     "name": "stdout",
     "output_type": "stream",
     "text": [
      "0.6728351639471395\n",
      "1.0362232133788576\n"
     ]
    },
    {
     "name": "stderr",
     "output_type": "stream",
     "text": [
      "c:\\Users\\Bhavya Prakash\\OneDrive\\Desktop\\Ezinore\\Sparko\\.venv\\Lib\\site-packages\\sklearn\\metrics\\_regression.py:492: FutureWarning: 'squared' is deprecated in version 1.4 and will be removed in 1.6. To calculate the root mean squared error, use the function'root_mean_squared_error'.\n",
      "  warnings.warn(\n",
      "c:\\Users\\Bhavya Prakash\\OneDrive\\Desktop\\Ezinore\\Sparko\\.venv\\Lib\\site-packages\\sklearn\\metrics\\_regression.py:492: FutureWarning: 'squared' is deprecated in version 1.4 and will be removed in 1.6. To calculate the root mean squared error, use the function'root_mean_squared_error'.\n",
      "  warnings.warn(\n"
     ]
    }
   ],
   "source": [
    "model_knn = KNeighborsRegressor()\n",
    "model_knn.fit(x_train, y_train)\n",
    "y_pred_knn = model_knn.predict(x_test)\n",
    "rmse = mean_squared_error(y_test, y_pred_knn, squared=False)\n",
    "print(rmse)\n",
    "y_actual = ss_target.inverse_transform((np.array(y_test)).reshape(-1,1))\n",
    "y_predicted_knn = ss_target.inverse_transform((np.array(y_pred_knn)).reshape(-1,1))\n",
    "rmse = mean_squared_error(y_actual, y_predicted_knn, squared=False)\n",
    "print(rmse)"
   ]
  },
  {
   "cell_type": "code",
   "execution_count": 56,
   "metadata": {},
   "outputs": [
    {
     "name": "stdout",
     "output_type": "stream",
     "text": [
      "0.6355896642889705\n",
      "0.978861985239002\n"
     ]
    },
    {
     "name": "stderr",
     "output_type": "stream",
     "text": [
      "c:\\Users\\Bhavya Prakash\\OneDrive\\Desktop\\Ezinore\\Sparko\\.venv\\Lib\\site-packages\\sklearn\\metrics\\_regression.py:492: FutureWarning: 'squared' is deprecated in version 1.4 and will be removed in 1.6. To calculate the root mean squared error, use the function'root_mean_squared_error'.\n",
      "  warnings.warn(\n",
      "c:\\Users\\Bhavya Prakash\\OneDrive\\Desktop\\Ezinore\\Sparko\\.venv\\Lib\\site-packages\\sklearn\\metrics\\_regression.py:492: FutureWarning: 'squared' is deprecated in version 1.4 and will be removed in 1.6. To calculate the root mean squared error, use the function'root_mean_squared_error'.\n",
      "  warnings.warn(\n"
     ]
    }
   ],
   "source": [
    "model_dtr = DecisionTreeRegressor()\n",
    "model_dtr.fit(x_train, y_train)\n",
    "y_pred_dtr = model_dtr.predict(x_test)\n",
    "rmse = mean_squared_error(y_test, y_pred_dtr, squared=False)\n",
    "print(rmse)\n",
    "y_actual = ss_target.inverse_transform((np.array(y_test)).reshape(-1,1))\n",
    "y_predicted_dtr = ss_target.inverse_transform((np.array(y_pred_dtr)).reshape(-1,1))\n",
    "rmse = mean_squared_error(y_actual, y_predicted_dtr, squared=False)\n",
    "print(rmse)"
   ]
  },
  {
   "cell_type": "code",
   "execution_count": 57,
   "metadata": {},
   "outputs": [
    {
     "name": "stdout",
     "output_type": "stream",
     "text": [
      "0.6352295824020452\n",
      "0.9783074285957964\n"
     ]
    },
    {
     "name": "stderr",
     "output_type": "stream",
     "text": [
      "c:\\Users\\Bhavya Prakash\\OneDrive\\Desktop\\Ezinore\\Sparko\\.venv\\Lib\\site-packages\\sklearn\\metrics\\_regression.py:492: FutureWarning: 'squared' is deprecated in version 1.4 and will be removed in 1.6. To calculate the root mean squared error, use the function'root_mean_squared_error'.\n",
      "  warnings.warn(\n",
      "c:\\Users\\Bhavya Prakash\\OneDrive\\Desktop\\Ezinore\\Sparko\\.venv\\Lib\\site-packages\\sklearn\\metrics\\_regression.py:492: FutureWarning: 'squared' is deprecated in version 1.4 and will be removed in 1.6. To calculate the root mean squared error, use the function'root_mean_squared_error'.\n",
      "  warnings.warn(\n"
     ]
    }
   ],
   "source": [
    "model_rf = RandomForestRegressor()\n",
    "model_rf.fit(x_train, y_train)\n",
    "y_pred_rf = model_rf.predict(x_test)\n",
    "rmse = mean_squared_error(y_test, y_pred_rf, squared=False)\n",
    "print(rmse)\n",
    "y_actual = ss_target.inverse_transform((np.array(y_test)).reshape(-1,1))\n",
    "y_predicted_rf = ss_target.inverse_transform((np.array(y_pred_rf)).reshape(-1,1))\n",
    "rmse = mean_squared_error(y_actual, y_predicted_rf, squared=False)\n",
    "print(rmse)"
   ]
  },
  {
   "cell_type": "code",
   "execution_count": 58,
   "metadata": {},
   "outputs": [
    {
     "name": "stdout",
     "output_type": "stream",
     "text": [
      "0.6345851719527997\n",
      "0.9773149883638631\n"
     ]
    },
    {
     "name": "stderr",
     "output_type": "stream",
     "text": [
      "c:\\Users\\Bhavya Prakash\\OneDrive\\Desktop\\Ezinore\\Sparko\\.venv\\Lib\\site-packages\\sklearn\\metrics\\_regression.py:492: FutureWarning: 'squared' is deprecated in version 1.4 and will be removed in 1.6. To calculate the root mean squared error, use the function'root_mean_squared_error'.\n",
      "  warnings.warn(\n",
      "c:\\Users\\Bhavya Prakash\\OneDrive\\Desktop\\Ezinore\\Sparko\\.venv\\Lib\\site-packages\\sklearn\\metrics\\_regression.py:492: FutureWarning: 'squared' is deprecated in version 1.4 and will be removed in 1.6. To calculate the root mean squared error, use the function'root_mean_squared_error'.\n",
      "  warnings.warn(\n"
     ]
    }
   ],
   "source": [
    "model_xgb = XGBRegressor()\n",
    "model_xgb.fit(x_train, y_train)\n",
    "y_pred_xgb = model_xgb.predict(x_test)\n",
    "rmse = mean_squared_error(y_test, y_pred_xgb, squared=False)\n",
    "print(rmse)\n",
    "y_actual = ss_target.inverse_transform((np.array(y_test)).reshape(-1,1))\n",
    "y_predicted_xgb = ss_target.inverse_transform((np.array(y_pred_xgb)).reshape(-1,1))\n",
    "rmse = mean_squared_error(y_actual, y_predicted_xgb, squared=False)\n",
    "print(rmse)"
   ]
  },
  {
   "cell_type": "markdown",
   "metadata": {},
   "source": [
    "### XGBRegressor performs best with RMSE of 0.9773"
   ]
  }
 ],
 "metadata": {
  "kernelspec": {
   "display_name": ".venv",
   "language": "python",
   "name": "python3"
  },
  "language_info": {
   "codemirror_mode": {
    "name": "ipython",
    "version": 3
   },
   "file_extension": ".py",
   "mimetype": "text/x-python",
   "name": "python",
   "nbconvert_exporter": "python",
   "pygments_lexer": "ipython3",
   "version": "3.11.5"
  }
 },
 "nbformat": 4,
 "nbformat_minor": 2
}
